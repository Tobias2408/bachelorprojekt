{
 "cells": [
  {
   "cell_type": "code",
   "execution_count": 2,
   "metadata": {},
   "outputs": [
    {
     "name": "stdout",
     "output_type": "stream",
     "text": [
      "Collecting pymilvus\n",
      "  Using cached pymilvus-2.4.3-py3-none-any.whl.metadata (5.3 kB)\n",
      "Requirement already satisfied: setuptools>=67 in /opt/anaconda3/envs/AI-Mac/lib/python3.10/site-packages (from pymilvus) (69.5.1)\n",
      "Collecting grpcio<=1.63.0,>=1.49.1 (from pymilvus)\n",
      "  Using cached grpcio-1.63.0-cp310-cp310-macosx_12_0_universal2.whl.metadata (3.2 kB)\n",
      "Requirement already satisfied: protobuf>=3.20.0 in /opt/anaconda3/envs/AI-Mac/lib/python3.10/site-packages (from pymilvus) (3.20.3)\n",
      "Collecting environs<=9.5.0 (from pymilvus)\n",
      "  Using cached environs-9.5.0-py2.py3-none-any.whl.metadata (14 kB)\n",
      "Collecting ujson>=2.0.0 (from pymilvus)\n",
      "  Downloading ujson-5.10.0-cp310-cp310-macosx_10_9_x86_64.whl.metadata (9.3 kB)\n",
      "Requirement already satisfied: pandas>=1.2.4 in /opt/anaconda3/envs/AI-Mac/lib/python3.10/site-packages (from pymilvus) (2.2.2)\n",
      "Collecting milvus-lite<2.5.0,>=2.4.0 (from pymilvus)\n",
      "  Downloading milvus_lite-2.4.6-py3-none-macosx_10_9_x86_64.whl.metadata (5.6 kB)\n",
      "Collecting marshmallow>=3.0.0 (from environs<=9.5.0->pymilvus)\n",
      "  Using cached marshmallow-3.21.3-py3-none-any.whl.metadata (7.1 kB)\n",
      "Requirement already satisfied: python-dotenv in /opt/anaconda3/envs/AI-Mac/lib/python3.10/site-packages (from environs<=9.5.0->pymilvus) (1.0.1)\n",
      "Requirement already satisfied: numpy>=1.22.4 in /opt/anaconda3/envs/AI-Mac/lib/python3.10/site-packages (from pandas>=1.2.4->pymilvus) (1.23.5)\n",
      "Requirement already satisfied: python-dateutil>=2.8.2 in /opt/anaconda3/envs/AI-Mac/lib/python3.10/site-packages (from pandas>=1.2.4->pymilvus) (2.9.0)\n",
      "Requirement already satisfied: pytz>=2020.1 in /opt/anaconda3/envs/AI-Mac/lib/python3.10/site-packages (from pandas>=1.2.4->pymilvus) (2024.1)\n",
      "Requirement already satisfied: tzdata>=2022.7 in /opt/anaconda3/envs/AI-Mac/lib/python3.10/site-packages (from pandas>=1.2.4->pymilvus) (2024.1)\n",
      "Requirement already satisfied: packaging>=17.0 in /opt/anaconda3/envs/AI-Mac/lib/python3.10/site-packages (from marshmallow>=3.0.0->environs<=9.5.0->pymilvus) (24.0)\n",
      "Requirement already satisfied: six>=1.5 in /opt/anaconda3/envs/AI-Mac/lib/python3.10/site-packages (from python-dateutil>=2.8.2->pandas>=1.2.4->pymilvus) (1.16.0)\n",
      "Using cached pymilvus-2.4.3-py3-none-any.whl (194 kB)\n",
      "Using cached environs-9.5.0-py2.py3-none-any.whl (12 kB)\n",
      "Using cached grpcio-1.63.0-cp310-cp310-macosx_12_0_universal2.whl (10.1 MB)\n",
      "Downloading milvus_lite-2.4.6-py3-none-macosx_10_9_x86_64.whl (22.2 MB)\n",
      "\u001b[2K   \u001b[90m━━━━━━━━━━━━━━━━━━━━━━━━━━━━━━━━━━━━━━━━\u001b[0m \u001b[32m22.2/22.2 MB\u001b[0m \u001b[31m8.8 MB/s\u001b[0m eta \u001b[36m0:00:00\u001b[0m00:01\u001b[0m00:01\u001b[0mm\n",
      "\u001b[?25hDownloading ujson-5.10.0-cp310-cp310-macosx_10_9_x86_64.whl (55 kB)\n",
      "\u001b[2K   \u001b[90m━━━━━━━━━━━━━━━━━━━━━━━━━━━━━━━━━━━━━━━━\u001b[0m \u001b[32m55.4/55.4 kB\u001b[0m \u001b[31m5.8 MB/s\u001b[0m eta \u001b[36m0:00:00\u001b[0m\n",
      "\u001b[?25hUsing cached marshmallow-3.21.3-py3-none-any.whl (49 kB)\n",
      "Installing collected packages: ujson, milvus-lite, marshmallow, grpcio, environs, pymilvus\n",
      "  Attempting uninstall: grpcio\n",
      "    Found existing installation: grpcio 1.64.0\n",
      "    Uninstalling grpcio-1.64.0:\n",
      "      Successfully uninstalled grpcio-1.64.0\n",
      "Successfully installed environs-9.5.0 grpcio-1.63.0 marshmallow-3.21.3 milvus-lite-2.4.6 pymilvus-2.4.3 ujson-5.10.0\n",
      "Note: you may need to restart the kernel to use updated packages.\n"
     ]
    }
   ],
   "source": [
    "pip install pymilvus"
   ]
  },
  {
   "cell_type": "code",
   "execution_count": 3,
   "metadata": {},
   "outputs": [],
   "source": [
    "import pymilvus"
   ]
  },
  {
   "cell_type": "code",
   "execution_count": 4,
   "metadata": {},
   "outputs": [
    {
     "name": "stdout",
     "output_type": "stream",
     "text": [
      "Collecting tiktoken\n",
      "  Downloading tiktoken-0.7.0-cp310-cp310-macosx_10_9_x86_64.whl.metadata (6.6 kB)\n",
      "Requirement already satisfied: regex>=2022.1.18 in /opt/anaconda3/envs/AI-Mac/lib/python3.10/site-packages (from tiktoken) (2024.5.15)\n",
      "Requirement already satisfied: requests>=2.26.0 in /opt/anaconda3/envs/AI-Mac/lib/python3.10/site-packages (from tiktoken) (2.31.0)\n",
      "Requirement already satisfied: charset-normalizer<4,>=2 in /opt/anaconda3/envs/AI-Mac/lib/python3.10/site-packages (from requests>=2.26.0->tiktoken) (3.3.2)\n",
      "Requirement already satisfied: idna<4,>=2.5 in /opt/anaconda3/envs/AI-Mac/lib/python3.10/site-packages (from requests>=2.26.0->tiktoken) (3.7)\n",
      "Requirement already satisfied: urllib3<3,>=1.21.1 in /opt/anaconda3/envs/AI-Mac/lib/python3.10/site-packages (from requests>=2.26.0->tiktoken) (2.2.1)\n",
      "Requirement already satisfied: certifi>=2017.4.17 in /opt/anaconda3/envs/AI-Mac/lib/python3.10/site-packages (from requests>=2.26.0->tiktoken) (2024.2.2)\n",
      "Downloading tiktoken-0.7.0-cp310-cp310-macosx_10_9_x86_64.whl (961 kB)\n",
      "\u001b[2K   \u001b[90m━━━━━━━━━━━━━━━━━━━━━━━━━━━━━━━━━━━━━━━━\u001b[0m \u001b[32m961.5/961.5 kB\u001b[0m \u001b[31m10.9 MB/s\u001b[0m eta \u001b[36m0:00:00\u001b[0ma \u001b[36m0:00:01\u001b[0m\n",
      "\u001b[?25hInstalling collected packages: tiktoken\n",
      "Successfully installed tiktoken-0.7.0\n",
      "Note: you may need to restart the kernel to use updated packages.\n"
     ]
    }
   ],
   "source": [
    "pip install tiktoken"
   ]
  },
  {
   "cell_type": "code",
   "execution_count": null,
   "metadata": {},
   "outputs": [],
   "source": []
  }
 ],
 "metadata": {
  "kernelspec": {
   "display_name": "AI-Mac",
   "language": "python",
   "name": "python3"
  },
  "language_info": {
   "codemirror_mode": {
    "name": "ipython",
    "version": 3
   },
   "file_extension": ".py",
   "mimetype": "text/x-python",
   "name": "python",
   "nbconvert_exporter": "python",
   "pygments_lexer": "ipython3",
   "version": "3.10.14"
  }
 },
 "nbformat": 4,
 "nbformat_minor": 2
}
