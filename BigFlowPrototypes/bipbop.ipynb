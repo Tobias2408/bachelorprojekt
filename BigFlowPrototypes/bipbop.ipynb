{
 "cells": [
  {
   "cell_type": "code",
   "execution_count": 7,
   "metadata": {},
   "outputs": [
    {
     "name": "stdout",
     "output_type": "stream",
     "text": [
      "False\n",
      "['flatbuffers-24.3.25.dist-info', 'tqdm-4.66.4.dist-info', 'fastjsonschema', 'overrides', 'importlib_metadata-7.1.0.dist-info', 'arrow-1.3.0.dist-info', 'async_lru-2.0.4.dist-info', 'h5py-3.11.0.dist-info', 'fastjsonschema-2.19.1.dist-info', 'nbclient-0.10.0.dist-info', 'async_timeout', 'marshmallow', 'uri_template-1.3.0.dist-info', 'appnope', 'mdurl', 'packaging', 'opt_einsum', 'keras', 'kiwisolver-1.4.5.dist-info', 'tree', 'readme_renderer', 'aiohttp', 'rfc3339_validator-0.1.4.dist-info', 'pexpect-4.9.0.dist-info', 'tensorflow_datasets', 'absl_py-2.1.0.dist-info', 'text_unidecode', 'text_unidecode-1.3.dist-info', 'pyasn1', 'langcodes-3.4.0.dist-info', 'thinc', 'openai-0.28.0.dist-info', 'fqdn-1.5.1.dist-info', 'decorator-5.1.1.dist-info', 'rfc3986-2.0.0.dist-info', 'smart_open-6.4.0.dist-info', 'httpcore', 'tzdata-2024.1.dist-info', 'environs-9.5.0.dist-info', 'traitlets-5.14.3.dist-info', 'pprintpp-0.4.0.dist-info', 'matplotlib-3.6.3.dist-info', 'cycler', 'language_data', 'tf_nightly-2.17.0.dev20240319.dist-info', 'aiohttp-3.9.5.dist-info', 'kaggle-1.6.14.dist-info', 'wcwidth', 'toml', 'numpy-1.23.5.dist-info', 'nest_asyncio-1.6.0.dist-info', 'packaging-24.0.dist-info', 'jaraco.classes-3.4.0.dist-info', 'websocket', 'ujson-5.10.0.dist-info', 'milvus_lite', 'markupsafe', 'jupyter_core', 'tensorflow_macos-2.16.1.dist-info', 'keras-3.0.0.dist-info', 'google_auth_oauthlib', 'termcolor-2.4.0.dist-info', 'ptyprocess-0.7.0.dist-info', 'widgetsnbextension', 'aiosignal-1.3.1.dist-info', 'notebook-7.1.3.dist-info', 'h11', 'isoduration-20.11.0.dist-info', 'tensorflow_estimator', 'PyYAML-6.0.1.dist-info', 'clang', 'scikit_learn-1.2.2.dist-info', 'tb_nightly-2.17.0a20240520.dist-info', 'tensorboard-2.16.0.dist-info', 'webencodings', 'thinc-8.2.3.dist-info', 'tensorboard_data_server', 'requests_oauthlib', 'toml-0.10.2.dist-info', 'dotenv', 'typing_extensions-4.11.0.dist-info', 'defusedxml', 'jupyterlab_server-2.27.1.dist-info', 'nbformat', 'annotated_types', 'kaggle', 'overrides-7.7.0.dist-info', 'parso-0.8.4.dist-info', 'mistune', 'webencodings-0.5.1.dist-info', 'attrs', 'colorama-0.4.6.dist-info', 'pymilvus', 'threadpoolctl.py', 'murmurhash', 'json5-0.9.25.dist-info', 'pyzmq-26.0.2.dist-info', 'confection-0.1.4.dist-info', 'regex-2024.5.15.dist-info', 'oauthlib', 'bleach', 'google_auth-2.29.0.dist-info', 'google_auth_oauthlib-1.0.0.dist-info', 'pygments', 'pure_eval', 'Pygments-2.15.1.dist-info', 'matplotlib-3.6.3-py3.10-nspkg.pth', 'astunparse-1.6.3.dist-info', 'pycparser', 'rpds', 'pyasn1-0.6.0.dist-info', 'tensorflow_io_gcs_filesystem', 'jaraco', 'python_json_logger-2.0.7.dist-info', 'pillow-10.3.0.dist-info', 'urllib3-1.26.18.dist-info', 'jax-0.4.28.dist-info', 'pylab.py', 'pytest', 'defusedxml-0.7.1.dist-info', 'ipywidgets', 'typer', 'docutils', 'jsonpointer-2.4.dist-info', 'argon2', 'plotly-5.21.0.dist-info', 'httpcore-1.0.5.dist-info', 'google_pasta-0.2.0.dist-info', 'grpc', 'pyparsing', 'werkzeug-3.0.3.dist-info', 'pydantic_core-2.18.2.dist-info', 'debugpy', 'stack_data', 'pip-24.0.dist-info', 'preshed', 'platformdirs-4.2.1.dist-info', 'pgvector-0.2.5.dist-info', 'cymem', 'jinja2', 'etils', 'distro', 'spacy_legacy-3.0.12.dist-info', 'arrow', 'IPython', 'soupsieve', 'frozenlist', 'jupyter_client', 'jsonschema_specifications-2023.12.1.dist-info', 'markdown_it_py-3.0.0.dist-info', 'multidict-6.0.5.dist-info', 'isoduration', 'six-1.16.0.dist-info', 'h11-0.14.0.dist-info', 'fsspec', 'decorator.py', 'jupyterlab_plotly', 'markdown', 'jaraco.functools-4.0.1.dist-info', '_cffi_backend.cpython-310-darwin.so', 'pydantic-2.7.1.dist-info', 'google', 'jsonpointer.py', 'pgvector', 'jupyter_console-6.6.3.dist-info', 'referencing', 'notebook_shim', 'tf_keras_nightly-2.17.0.dev2024052009.dist-info', 'attrs-23.2.0.dist-info', 'QtPy-2.4.1.dist-info', 'spacy_loggers-1.0.5.dist-info', 'joblib-1.4.2.dist-info', 'tensorflow_io_gcs_filesystem-0.37.0.dist-info', 'colorama', 'cffi', 'widgetsnbextension-4.0.10.dist-info', 'pyasn1_modules-0.4.0.dist-info', 'Jinja2-3.1.3.dist-info', 'readme_renderer-43.0.dist-info', 'tzdata', 'jaraco.context-5.3.0.dist-info', 'rsa', 'executing', 'cloudpathlib', 'gast', 'pkginfo-1.10.0.dist-info', 'pytz-2024.1.dist-info', 'ipykernel_launcher.py', 'anyio-4.3.0.dist-info', 'markdown_it', 'rich-13.7.1.dist-info', 'protobuf-3.20.3.dist-info', 'matplotlib_inline', 'murmurhash-1.0.10.dist-info', 'catalogue-2.0.10.dist-info', 'webcolors-1.13.dist-info', 'iniconfig-2.0.0.dist-info', 'jupyterlab_server', 'Markdown-3.6.dist-info', 'jedi', 'protobuf-3.20.3-nspkg.pth', 'send2trash', 'tests', 'pytest-8.2.0.dist-info', 'absl', 'pandocfilters-1.5.1.dist-info', 'dateutil-stubs', 'nbconvert-7.16.3.dist-info', 'fqdn', 'optree-0.11.0.dist-info', 'jupyter_events-0.10.0.dist-info', 'wasabi', 'fontTools', 'ml_dtypes-0.3.2.dist-info', 'idna', 'appnope-0.1.4.dist-info', 'more_itertools-10.2.0.dist-info', 'importlib_metadata', 'werkzeug', 'fonttools-4.51.0.dist-info', '_argon2_cffi_bindings', 'wheel', 'bs4', 'scipy-1.13.0.dist-info', 'click', 'requests_toolbelt', 'fsspec-2024.5.0.dist-info', 'mistune-3.0.2.dist-info', 'tenacity', 'comm', 'slugify', 'zipp', 'Babel-2.14.0.dist-info', 'cloudpathlib-0.16.0.dist-info', 'python_slugify-8.0.4.dist-info', 'smart_open', 'preprocess_ai-0.2.2.dist-info', 'mpl_toolkits', 'pytz', 'qtconsole-5.5.1.dist-info', 'ImageAI', 'pyparsing-3.1.2.dist-info', 'referencing-0.35.0.dist-info', '__pycache__', 'ujson.cpython-310-darwin.so', 'nbformat-5.10.4.dist-info', 'sqlalchemy', 'cachetools', 'async_timeout-4.0.3.dist-info', 'contourpy-1.2.1.dist-info', 'regex', 'stack_data-0.6.3.dist-info', 'argon2_cffi-23.1.0.dist-info', 'jupyter_events', 'nbclient', 'wrapt', 'asttokens-2.4.1.dist-info', 'spacy-3.7.4.dist-info', 'zipp-3.18.2.dist-info', 'plotly', 'threadpoolctl-3.5.0.dist-info', 'numpy', 'yarl-1.9.4.dist-info', 'keras_nightly-3.1.0.dev2024031503.dist-info', 'wrapt-1.14.1.dist-info', 'pasta', 'oauthlib-3.2.2.dist-info', 'weasel-0.3.4.dist-info', 'jupyterlab_pygments', 'more_itertools', 'exceptiongroup', 'pprintpp.py', 'webcolors', 'charset_normalizer', 'optree', 'backports', 'PIL', 'requests', 'jedi-0.19.1.dist-info', 'milvus_lite-2.4.6.dist-info', 'jupyter_core-5.7.2.dist-info', 'pure_eval-0.2.2.dist-info', 'termcolor', 'python_dotenv-1.0.1.dist-info', '_plotly_utils', 'multidict', 'anyio', 'etils-1.7.0.dist-info', 'pip', 'soupsieve-2.5.dist-info', 'prompt_toolkit-3.0.43.dist-info', 'requests-2.31.0.dist-info', 'babel', 'h5py', 'SimpleAI_Image', 'rfc3986', 'Send2Trash-1.8.3.dist-info', 'tornado', 'jupyter_lsp-2.2.5.dist-info', 'sklearn', 'importlib_resources', 'cffi-1.16.0.dist-info', 'tomli', 'pyasn1_modules', 'contourpy', 'sniffio-1.3.1.dist-info', 'httpx', 'marshmallow-3.21.3.dist-info', 'jupyterlab_widgets-3.0.10.dist-info', 'joblib', 'jupyterlab-4.1.6.dist-info', 'certifi', 'prompt_toolkit', 'pandocfilters.py', 'langcodes', 'mdurl-0.1.2.dist-info', 'tenacity-8.2.3.dist-info', 'environs', 'distutils-precedence.pth', 'python_dateutil-2.9.0.post0.dist-info', 'jupyterlab_pygments-0.3.0.dist-info', 'sniffio', 'attr', 'pexpect', 'tiktoken', 'typer-0.9.4.dist-info', 'keyring-25.2.1.dist-info', 'preshed-3.0.9.dist-info', 'jsonschema', 'rsa-4.9.dist-info', 'bleach-6.1.0.dist-info', 'wcwidth-0.2.13.dist-info', 'setuptools-70.0.0.dist-info', 'gast-0.4.0.dist-info', 'jupyter_console', 'charset_normalizer-3.3.2.dist-info', 'tqdm', 'keyring', 'tensorflow-plugins', 'srsly', 'pprintpp', 'backports.tarfile-1.1.1.dist-info', 'pymilvus-2.4.3.dist-info', 'kiwisolver', 'debugpy-1.8.1.dist-info', 'jupyter-1.0.0.dist-info', 'language_data-1.2.0.dist-info', 'psutil-5.9.8.dist-info', 'SQLAlchemy-2.0.30.dist-info', 'tensorflow', 'srsly-2.4.8.dist-info', '_yaml', 'tensorflow-2.16.1.dist-info', 'ipykernel-6.29.4.dist-info', 'ptyprocess', 'six.py', 'tensorboard', 'libclang-18.1.1.dist-info', 'jupyter_server_terminals', 'certifi-2024.2.2.dist-info', 'json5', 'exceptiongroup-1.2.1.dist-info', 'tinycss2', 'pycparser-2.22.dist-info', 'rfc3339_validator.py', 'array_record', 'cycler-0.12.1.dist-info', 'rich', 'nh3-0.2.17.dist-info', 'idna-3.7.dist-info', 'jupyter_lsp', 'pluggy', 'pluggy-1.5.0.dist-info', 'cymem-2.0.8.dist-info', 'tensorflow_metadata', 'matplotlib', 'wheel-0.43.0.dist-info', 'comm-0.2.2.dist-info', 'yaml', 'tiktoken-0.7.0.dist-info', 'prometheus_client', 'rpds_py-0.18.0.dist-info', 'qtconsole', 'my_package-0.1.0.dist-info', 'promise', 'namex', 'README.txt', 'ipython-8.23.0.dist-info', 'namex-0.0.8.dist-info', 'twine-5.1.0.dist-info', 'dm_tree-0.1.8.dist-info', 'marisa_trie-1.1.1.dist-info', 'rfc3986_validator.py', 'distro-1.9.0.dist-info', 'jupyter_server', 'pythonjsonlogger', 'importlib_resources-6.4.0.dist-info', 'tiktoken_ext', 'MarkupSafe-2.1.5.dist-info', 'urllib3', 'nbconvert', 'frozenlist-1.4.1.dist-info', 'grpcio-1.63.0.dist-info', 'flatbuffers', 'weasel', 'marisa_trie.cpython-310-darwin.so', 'opt_einsum-3.3.0.dist-info', 'rfc3986_validator-0.1.1.dist-info', 'tomli-2.0.1.dist-info', 'terminado-0.18.1.dist-info', 'tensorflow_metadata-1.15.0.dist-info', 'uri_template', 'requests_toolbelt-1.0.0.dist-info', 'asttokens', 'pandas-1.5.3.dist-info', 'httpx-0.27.0.dist-info', 'jupyterlab', 'argon2_cffi_bindings-21.2.0.dist-info', 'jsonschema_specifications', 'setuptools', 'pkg_resources', 'notebook', 'docutils-0.21.2.dist-info', 'jupyter_client-8.6.1.dist-info', 'spacy', 'jupyter_server-2.14.0.dist-info', 'matplotlib_inline-0.1.7.dist-info', '_distutils_hack', 'nh3', 'terminado', 'jax', 'spacy_loggers', 'types_python_dateutil-2.9.0.20240316.dist-info', 'async_lru', 'ipywidgets-8.1.2.dist-info', 'parso', 'tensorboard_data_server-0.7.2.dist-info', 'catalogue', 'pydantic', 'tinycss2-1.3.0.dist-info', 'iniconfig', 'spacy_legacy', 'jupyter_server_terminals-0.5.3.dist-info', 'prometheus_client-0.20.0.dist-info', 'psutil', 'traitlets', 'twine', 'beautifulsoup4-4.12.3.dist-info', 'tensorflow_estimator-2.12.0.dist-info', 'scipy', 'yarl', 'ml_dtypes', 'astunparse', 'annotated_types-0.7.0.dist-info', 'zmq', 'array_record-0.4.1.dist-info', 'qtpy', 'py.py', 'wasabi-1.1.2.dist-info', 'tensorflow_datasets-4.9.2.dist-info', 'blis', 'jsonschema-4.21.1.dist-info', 'pydantic_core', 'SimpleAI_Image-0.1.6.dist-info', 'confection', 'ipykernel', 'aiosignal', '_plotly_future_', 'tensorflow_metal-0.8.0.dist-info', 'pandas', 'dateutil', 'requests_oauthlib-2.0.0.dist-info', 'promise-2.3.dist-info', 'executing-2.0.1.dist-info', 'nest_asyncio.py', 'openai', '_pytest', 'pkginfo', 'typing_extensions.py', 'platformdirs', 'click-8.1.7.dist-info', 'jupyterlab_widgets', 'notebook_shim-0.2.4.dist-info', 'cachetools-5.3.3.dist-info', 'jupyter.py', 'tornado-6.4.dist-info', 'tf_keras', 'blis-0.7.11.dist-info', 'websocket_client-1.8.0.dist-info']\n"
     ]
    }
   ],
   "source": [
    "import sys\n",
    "import os\n",
    "\n",
    "site_packages_path = \"/Library/Frameworks/Python.framework/Versions/3.10/lib/python3.10/site-packages\"\n",
    "print(site_packages_path in sys.path)\n",
    "print(os.listdir(site_packages_path))"
   ]
  },
  {
   "cell_type": "markdown",
   "metadata": {},
   "source": []
  },
  {
   "cell_type": "code",
   "execution_count": 8,
   "metadata": {},
   "outputs": [
    {
     "name": "stdout",
     "output_type": "stream",
     "text": [
      "Requirement already satisfied: preprocess-ai==0.2.3 in /opt/anaconda3/envs/AI-Mac/lib/python3.10/site-packages (0.2.3)\n",
      "Requirement already satisfied: pandas==1.5.3 in /opt/anaconda3/envs/AI-Mac/lib/python3.10/site-packages (from preprocess-ai==0.2.3) (1.5.3)\n",
      "Requirement already satisfied: numpy==1.23.5 in /opt/anaconda3/envs/AI-Mac/lib/python3.10/site-packages (from preprocess-ai==0.2.3) (1.23.5)\n",
      "Requirement already satisfied: scikit-learn==1.2.2 in /opt/anaconda3/envs/AI-Mac/lib/python3.10/site-packages (from preprocess-ai==0.2.3) (1.2.2)\n",
      "Requirement already satisfied: openai==0.28.0 in /opt/anaconda3/envs/AI-Mac/lib/python3.10/site-packages (from preprocess-ai==0.2.3) (0.28.0)\n",
      "Requirement already satisfied: python-dotenv==1.0.1 in /opt/anaconda3/envs/AI-Mac/lib/python3.10/site-packages (from preprocess-ai==0.2.3) (1.0.1)\n",
      "Requirement already satisfied: scipy==1.13.0 in /opt/anaconda3/envs/AI-Mac/lib/python3.10/site-packages (from preprocess-ai==0.2.3) (1.13.0)\n",
      "Requirement already satisfied: requests>=2.20 in /opt/anaconda3/envs/AI-Mac/lib/python3.10/site-packages (from openai==0.28.0->preprocess-ai==0.2.3) (2.31.0)\n",
      "Requirement already satisfied: tqdm in /opt/anaconda3/envs/AI-Mac/lib/python3.10/site-packages (from openai==0.28.0->preprocess-ai==0.2.3) (4.66.4)\n",
      "Requirement already satisfied: aiohttp in /opt/anaconda3/envs/AI-Mac/lib/python3.10/site-packages (from openai==0.28.0->preprocess-ai==0.2.3) (3.9.5)\n",
      "Requirement already satisfied: python-dateutil>=2.8.1 in /opt/anaconda3/envs/AI-Mac/lib/python3.10/site-packages (from pandas==1.5.3->preprocess-ai==0.2.3) (2.9.0)\n",
      "Requirement already satisfied: pytz>=2020.1 in /opt/anaconda3/envs/AI-Mac/lib/python3.10/site-packages (from pandas==1.5.3->preprocess-ai==0.2.3) (2024.1)\n",
      "Requirement already satisfied: joblib>=1.1.1 in /opt/anaconda3/envs/AI-Mac/lib/python3.10/site-packages (from scikit-learn==1.2.2->preprocess-ai==0.2.3) (1.4.2)\n",
      "Requirement already satisfied: threadpoolctl>=2.0.0 in /opt/anaconda3/envs/AI-Mac/lib/python3.10/site-packages (from scikit-learn==1.2.2->preprocess-ai==0.2.3) (3.5.0)\n",
      "Requirement already satisfied: six>=1.5 in /opt/anaconda3/envs/AI-Mac/lib/python3.10/site-packages (from python-dateutil>=2.8.1->pandas==1.5.3->preprocess-ai==0.2.3) (1.16.0)\n",
      "Requirement already satisfied: charset-normalizer<4,>=2 in /opt/anaconda3/envs/AI-Mac/lib/python3.10/site-packages (from requests>=2.20->openai==0.28.0->preprocess-ai==0.2.3) (3.3.2)\n",
      "Requirement already satisfied: idna<4,>=2.5 in /opt/anaconda3/envs/AI-Mac/lib/python3.10/site-packages (from requests>=2.20->openai==0.28.0->preprocess-ai==0.2.3) (3.7)\n",
      "Requirement already satisfied: urllib3<3,>=1.21.1 in /opt/anaconda3/envs/AI-Mac/lib/python3.10/site-packages (from requests>=2.20->openai==0.28.0->preprocess-ai==0.2.3) (2.2.1)\n",
      "Requirement already satisfied: certifi>=2017.4.17 in /opt/anaconda3/envs/AI-Mac/lib/python3.10/site-packages (from requests>=2.20->openai==0.28.0->preprocess-ai==0.2.3) (2024.2.2)\n",
      "Requirement already satisfied: aiosignal>=1.1.2 in /opt/anaconda3/envs/AI-Mac/lib/python3.10/site-packages (from aiohttp->openai==0.28.0->preprocess-ai==0.2.3) (1.3.1)\n",
      "Requirement already satisfied: attrs>=17.3.0 in /opt/anaconda3/envs/AI-Mac/lib/python3.10/site-packages (from aiohttp->openai==0.28.0->preprocess-ai==0.2.3) (23.2.0)\n",
      "Requirement already satisfied: frozenlist>=1.1.1 in /opt/anaconda3/envs/AI-Mac/lib/python3.10/site-packages (from aiohttp->openai==0.28.0->preprocess-ai==0.2.3) (1.4.1)\n",
      "Requirement already satisfied: multidict<7.0,>=4.5 in /opt/anaconda3/envs/AI-Mac/lib/python3.10/site-packages (from aiohttp->openai==0.28.0->preprocess-ai==0.2.3) (6.0.5)\n",
      "Requirement already satisfied: yarl<2.0,>=1.0 in /opt/anaconda3/envs/AI-Mac/lib/python3.10/site-packages (from aiohttp->openai==0.28.0->preprocess-ai==0.2.3) (1.9.4)\n",
      "Requirement already satisfied: async-timeout<5.0,>=4.0 in /opt/anaconda3/envs/AI-Mac/lib/python3.10/site-packages (from aiohttp->openai==0.28.0->preprocess-ai==0.2.3) (4.0.3)\n",
      "Note: you may need to restart the kernel to use updated packages.\n"
     ]
    }
   ],
   "source": [
    "pip install preprocess-ai==0.2.3"
   ]
  },
  {
   "cell_type": "code",
   "execution_count": 7,
   "metadata": {},
   "outputs": [
    {
     "ename": "ModuleNotFoundError",
     "evalue": "No module named 'preprocess_ai'",
     "output_type": "error",
     "traceback": [
      "\u001b[0;31m---------------------------------------------------------------------------\u001b[0m",
      "\u001b[0;31mModuleNotFoundError\u001b[0m                       Traceback (most recent call last)",
      "Cell \u001b[0;32mIn[7], line 1\u001b[0m\n\u001b[0;32m----> 1\u001b[0m \u001b[38;5;28;01mfrom\u001b[39;00m \u001b[38;5;21;01mpreprocess_ai\u001b[39;00m\u001b[38;5;21;01m.\u001b[39;00m\u001b[38;5;21;01mDataPreparation\u001b[39;00m\u001b[38;5;21;01m.\u001b[39;00m\u001b[38;5;21;01mDataCleaner\u001b[39;00m\u001b[38;5;21;01m.\u001b[39;00m\u001b[38;5;21;01mdataCleaner\u001b[39;00m \u001b[38;5;28;01mimport\u001b[39;00m DataCleaner\n",
      "\u001b[0;31mModuleNotFoundError\u001b[0m: No module named 'preprocess_ai'"
     ]
    }
   ],
   "source": [
    "from preprocess_ai.DataPreparation.DataCleaner.dataCleaner import DataCleaner"
   ]
  },
  {
   "cell_type": "code",
   "execution_count": null,
   "metadata": {},
   "outputs": [],
   "source": []
  }
 ],
 "metadata": {
  "kernelspec": {
   "display_name": "AI-Mac",
   "language": "python",
   "name": "python3"
  },
  "language_info": {
   "codemirror_mode": {
    "name": "ipython",
    "version": 3
   },
   "file_extension": ".py",
   "mimetype": "text/x-python",
   "name": "python",
   "nbconvert_exporter": "python",
   "pygments_lexer": "ipython3",
   "version": "3.10.14"
  }
 },
 "nbformat": 4,
 "nbformat_minor": 2
}
